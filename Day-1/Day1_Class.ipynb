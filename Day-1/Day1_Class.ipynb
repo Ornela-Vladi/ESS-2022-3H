{
  "nbformat": 4,
  "nbformat_minor": 0,
  "metadata": {
    "colab": {
      "name": "Day1-Class.ipynb",
      "provenance": [],
      "collapsed_sections": [],
      "toc_visible": true
    },
    "kernelspec": {
      "name": "python3",
      "display_name": "Python 3"
    }
  },
  "cells": [
    {
      "cell_type": "markdown",
      "metadata": {
        "id": "IVijStwRXqOm"
      },
      "source": [
        "# Day 1 Exercises"
      ]
    },
    {
      "cell_type": "markdown",
      "metadata": {
        "id": "iIXp1gtxEDGP"
      },
      "source": [
        "In this exercise, we will review python basics. "
      ]
    },
    {
      "cell_type": "markdown",
      "metadata": {
        "id": "p7g-vh9GXuHa"
      },
      "source": [
        "## Variables\n"
      ]
    },
    {
      "cell_type": "markdown",
      "metadata": {
        "id": "EtXJ1CbJfDMP"
      },
      "source": [
        "### Create variables"
      ]
    },
    {
      "cell_type": "markdown",
      "metadata": {
        "id": "Il7w4ZyJekgD"
      },
      "source": [
        "Let's start with a very simple exercise of creating new variables\n",
        "\n",
        "\n",
        "\n",
        "1.   Variable called var_a with value of 3\n",
        "2.   Variable called var_b with value of 100\n",
        "3.   String variable str_var_a with value of \"ESS-3H\"\n",
        "4.   String variable str_var_a with value of \"Introduction to Python for Social Scientists\"\n",
        "\n",
        "\n"
      ]
    },
    {
      "cell_type": "code",
      "metadata": {
        "id": "I-Uhpjn4fmlq"
      },
      "source": [
        ""
      ],
      "execution_count": null,
      "outputs": []
    },
    {
      "cell_type": "markdown",
      "metadata": {
        "id": "n4edwXaTfX5C"
      },
      "source": [
        "### Variable operations"
      ]
    },
    {
      "cell_type": "markdown",
      "metadata": {
        "id": "Jx-VgZXhft4_"
      },
      "source": [
        "\n",
        "\n",
        "*   Add var_a and var_b\n",
        "*   Subtract var_a from var_b\n",
        "*   Multiply var_a and var_b\n",
        "*   Divide var_b by var_a\n",
        "\n"
      ]
    },
    {
      "cell_type": "code",
      "metadata": {
        "id": "F38MqMvggGHY"
      },
      "source": [
        ""
      ],
      "execution_count": null,
      "outputs": []
    },
    {
      "cell_type": "markdown",
      "metadata": {
        "id": "daqr2BXlRO_u"
      },
      "source": [
        "## Saving\n",
        "\n",
        "- Before going to the next section, let's save the work on github or google drive"
      ]
    },
    {
      "cell_type": "markdown",
      "metadata": {
        "id": "u0HUK1lQbEb4"
      },
      "source": [
        "## Lists"
      ]
    },
    {
      "cell_type": "markdown",
      "metadata": {
        "id": "WW78ZY6yjbT6"
      },
      "source": [
        "### Create lists"
      ]
    },
    {
      "cell_type": "markdown",
      "metadata": {
        "id": "Mdq_SIg9gOMg"
      },
      "source": [
        "1. Create a list, list_a, with values of 1, 3, 4, 5, 9, 2, 4.5\n",
        "2. Create a list, list_b, with words from \"this is a simple string list\" \n",
        "  - You can type all or use `*.split` method"
      ]
    },
    {
      "cell_type": "code",
      "metadata": {
        "id": "QllZLPMabmsD"
      },
      "source": [
        ""
      ],
      "execution_count": null,
      "outputs": []
    },
    {
      "cell_type": "markdown",
      "metadata": {
        "id": "CPo-xxVmjfUL"
      },
      "source": [
        "### Slicing lists"
      ]
    },
    {
      "cell_type": "markdown",
      "metadata": {
        "id": "XZyEmoCpjjdU"
      },
      "source": [
        "- From the first list, extract a sublist with elements of:\n",
        "    -   1, 3, 4\n",
        "    -   9, 2, 4.5\n",
        "    -   4, 5, 9\n"
      ]
    },
    {
      "cell_type": "code",
      "metadata": {
        "id": "5JTxUTdnjep3"
      },
      "source": [
        ""
      ],
      "execution_count": null,
      "outputs": []
    },
    {
      "cell_type": "markdown",
      "metadata": {
        "id": "egyAtr0slWVG"
      },
      "source": [
        "## Manipulating lists"
      ]
    },
    {
      "cell_type": "markdown",
      "metadata": {
        "id": "vZQJxYrbldyl"
      },
      "source": [
        "- Append an element (e.g. 100) to list_a\n",
        "- Replace the second element of list_a to 12"
      ]
    },
    {
      "cell_type": "code",
      "metadata": {
        "id": "rJ9u0rbXEyzA"
      },
      "source": [
        ""
      ],
      "execution_count": null,
      "outputs": []
    },
    {
      "cell_type": "markdown",
      "metadata": {
        "id": "Zf1GnnLE5ECS"
      },
      "source": [
        "### Concatenate lists"
      ]
    },
    {
      "cell_type": "markdown",
      "metadata": {
        "id": "jAgDA5GL5HuC"
      },
      "source": [
        "- Concatenate list_a and list_b\n",
        "- Use `+`"
      ]
    },
    {
      "cell_type": "code",
      "metadata": {
        "id": "MFA23E1H5HO2"
      },
      "source": [
        ""
      ],
      "execution_count": null,
      "outputs": []
    },
    {
      "cell_type": "markdown",
      "metadata": {
        "id": "Y_Ovr2NB7R_V"
      },
      "source": [
        "### Copying lists"
      ]
    },
    {
      "cell_type": "markdown",
      "metadata": {
        "id": "mYaM6Za77cq1"
      },
      "source": [
        "Do the following operations\n",
        "- Assign `lsit_a` to `list_a2`\n",
        "- Change the value of `list_a2[0]` to 7\n",
        "- Check the value of `list_a` and `list_a2`\n",
        "\n",
        "What do you find? "
      ]
    },
    {
      "cell_type": "code",
      "metadata": {
        "id": "0l6ZdhMiE1NK"
      },
      "source": [
        ""
      ],
      "execution_count": null,
      "outputs": []
    },
    {
      "cell_type": "markdown",
      "metadata": {
        "id": "kF_f4TLg-RAT"
      },
      "source": [
        "## Dictionary"
      ]
    },
    {
      "cell_type": "markdown",
      "metadata": {
        "id": "LBbTHliu-U2A"
      },
      "source": [
        "- create a dictionary with the follwoing key-value pairs\n",
        "    *   a: 10\n",
        "    *   b: 20\n",
        "    *   c: 70\n",
        "- add some new key and value\n",
        "\n"
      ]
    },
    {
      "cell_type": "code",
      "metadata": {
        "id": "myq61b4x-i2c"
      },
      "source": [
        ""
      ],
      "execution_count": null,
      "outputs": []
    },
    {
      "cell_type": "markdown",
      "source": [
        "## Control sequence"
      ],
      "metadata": {
        "id": "iv87rELIiAM4"
      }
    },
    {
      "cell_type": "markdown",
      "source": [
        "### For loop\n",
        "\n",
        "- Create a sequence of integers from 3 to 10\n",
        "- Use control sequence to print each item of this list"
      ],
      "metadata": {
        "id": "dTEzTIT0iEvX"
      }
    },
    {
      "cell_type": "code",
      "source": [
        ""
      ],
      "metadata": {
        "id": "TjX1UV6-h_3j"
      },
      "execution_count": null,
      "outputs": []
    },
    {
      "cell_type": "markdown",
      "source": [
        "- Use the dictionary above, print all key and value pairs"
      ],
      "metadata": {
        "id": "1tUxLQt-ii2x"
      }
    },
    {
      "cell_type": "code",
      "source": [
        ""
      ],
      "metadata": {
        "id": "eHGIoug6iieO"
      },
      "execution_count": null,
      "outputs": []
    },
    {
      "cell_type": "markdown",
      "source": [
        "### While loop\n",
        "\n",
        "- Create a scaler, $x$, with initial value of 0\n",
        "- Run while loop to add 1 to $x$ in each iteration, and terminate at 10"
      ],
      "metadata": {
        "id": "07wXUbyhisVg"
      }
    },
    {
      "cell_type": "code",
      "source": [
        ""
      ],
      "metadata": {
        "id": "2g3MS5AjisAJ"
      },
      "execution_count": null,
      "outputs": []
    },
    {
      "cell_type": "markdown",
      "source": [
        ""
      ],
      "metadata": {
        "id": "c3Ztiu6JiYyN"
      }
    },
    {
      "cell_type": "code",
      "source": [
        ""
      ],
      "metadata": {
        "id": "2JMPC9FtiYUy"
      },
      "execution_count": null,
      "outputs": []
    },
    {
      "cell_type": "markdown",
      "source": [
        "## Functions"
      ],
      "metadata": {
        "id": "qB5EXFWUjWmh"
      }
    },
    {
      "cell_type": "markdown",
      "source": [
        "Create following functions\n",
        "1. Caclulate the sum of two numbers\n",
        "2. Calculate the sum of two numbers but the second number has the default value of 3\n",
        "3. Take an argument of a number array, return the sum of it\n",
        "4. Take an argument of a number array, return the sum of it excluding null (None) element\n"
      ],
      "metadata": {
        "id": "XCbY9Knhl22u"
      }
    },
    {
      "cell_type": "code",
      "source": [
        ""
      ],
      "metadata": {
        "id": "dVlL8Hh9l2W1"
      },
      "execution_count": null,
      "outputs": []
    },
    {
      "cell_type": "markdown",
      "source": [
        "## List comprehension"
      ],
      "metadata": {
        "id": "Hab0hq_ZnMOp"
      }
    },
    {
      "cell_type": "markdown",
      "source": [
        "From the following list, create a list without None\n",
        "\n",
        "```\n",
        "list_original = [1, 8, 3, 12, None, 7, None, 100, 9]\n",
        "```"
      ],
      "metadata": {
        "id": "KBDeumvvopKd"
      }
    },
    {
      "cell_type": "code",
      "source": [
        ""
      ],
      "metadata": {
        "id": "cJla0AdNnO4N"
      },
      "execution_count": null,
      "outputs": []
    }
  ]
}