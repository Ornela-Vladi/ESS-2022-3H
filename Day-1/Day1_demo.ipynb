{
  "nbformat": 4,
  "nbformat_minor": 0,
  "metadata": {
    "colab": {
      "name": "Day1-demo.ipynb",
      "provenance": [],
      "collapsed_sections": []
    },
    "kernelspec": {
      "name": "python3",
      "display_name": "Python 3"
    },
    "language_info": {
      "name": "python"
    }
  },
  "cells": [
    {
      "cell_type": "code",
      "execution_count": 1,
      "metadata": {
        "id": "oAjhyKvt8but",
        "colab": {
          "base_uri": "https://localhost:8080/"
        },
        "outputId": "ce9a517d-092c-4694-9358-a69f76cbb278"
      },
      "outputs": [
        {
          "output_type": "execute_result",
          "data": {
            "text/plain": [
              "1"
            ]
          },
          "metadata": {},
          "execution_count": 1
        }
      ],
      "source": [
        "1"
      ]
    },
    {
      "cell_type": "markdown",
      "source": [
        "## Scaler\n",
        "\n",
        "### Float\n",
        "\n",
        "I'm creating a float object\n",
        "\n",
        "- this will be a bullet point\n",
        "  - like this\n",
        "\n",
        "1. Numbered list\n",
        "1. like this"
      ],
      "metadata": {
        "id": "5h3En4sm-WhA"
      }
    },
    {
      "cell_type": "code",
      "source": [
        "a = 1"
      ],
      "metadata": {
        "id": "COZkzxwW8sTt"
      },
      "execution_count": 2,
      "outputs": []
    },
    {
      "cell_type": "code",
      "source": [
        "a"
      ],
      "metadata": {
        "id": "VwTtW9Yf8kes",
        "colab": {
          "base_uri": "https://localhost:8080/"
        },
        "outputId": "6d24b151-c5ef-4cfd-8b43-5d12ed31251e"
      },
      "execution_count": 3,
      "outputs": [
        {
          "output_type": "execute_result",
          "data": {
            "text/plain": [
              "1"
            ]
          },
          "metadata": {},
          "execution_count": 3
        }
      ]
    },
    {
      "cell_type": "code",
      "source": [
        "b = 3"
      ],
      "metadata": {
        "id": "x6VJ6H-0_WKz"
      },
      "execution_count": 4,
      "outputs": []
    },
    {
      "cell_type": "code",
      "source": [
        "b"
      ],
      "metadata": {
        "id": "-5RCDpaE_Ytl",
        "colab": {
          "base_uri": "https://localhost:8080/"
        },
        "outputId": "3cbb9989-282e-484b-af32-63f1c463c4ac"
      },
      "execution_count": 5,
      "outputs": [
        {
          "output_type": "execute_result",
          "data": {
            "text/plain": [
              "3"
            ]
          },
          "metadata": {},
          "execution_count": 5
        }
      ]
    },
    {
      "cell_type": "code",
      "source": [
        "a + b"
      ],
      "metadata": {
        "id": "uFtb2Zz1_Z0B",
        "colab": {
          "base_uri": "https://localhost:8080/"
        },
        "outputId": "29f02609-9583-4747-a4f9-456aec491b75"
      },
      "execution_count": 6,
      "outputs": [
        {
          "output_type": "execute_result",
          "data": {
            "text/plain": [
              "4"
            ]
          },
          "metadata": {},
          "execution_count": 6
        }
      ]
    },
    {
      "cell_type": "code",
      "source": [
        "c = 4.2"
      ],
      "metadata": {
        "id": "mAtBCegM_bnb"
      },
      "execution_count": 7,
      "outputs": []
    },
    {
      "cell_type": "code",
      "source": [
        "a + c"
      ],
      "metadata": {
        "id": "nPjk80GL_exH",
        "colab": {
          "base_uri": "https://localhost:8080/"
        },
        "outputId": "fa98de5a-b57e-428b-80dc-b9db18dd1c9e"
      },
      "execution_count": 8,
      "outputs": [
        {
          "output_type": "execute_result",
          "data": {
            "text/plain": [
              "5.2"
            ]
          },
          "metadata": {},
          "execution_count": 8
        }
      ]
    },
    {
      "cell_type": "code",
      "source": [
        "int_a = int(10)"
      ],
      "metadata": {
        "id": "NX1tr50O_hba"
      },
      "execution_count": 9,
      "outputs": []
    },
    {
      "cell_type": "code",
      "source": [
        "int_a"
      ],
      "metadata": {
        "id": "BZmqXkjk_fe4",
        "colab": {
          "base_uri": "https://localhost:8080/"
        },
        "outputId": "a70907b5-951d-41f7-d970-60a1a0f1454c"
      },
      "execution_count": 10,
      "outputs": [
        {
          "output_type": "execute_result",
          "data": {
            "text/plain": [
              "10"
            ]
          },
          "metadata": {},
          "execution_count": 10
        }
      ]
    },
    {
      "cell_type": "code",
      "source": [
        "type(int_a)"
      ],
      "metadata": {
        "id": "V_ArYo61_obU",
        "colab": {
          "base_uri": "https://localhost:8080/"
        },
        "outputId": "3831e715-ffdc-413f-9032-80089fb5c015"
      },
      "execution_count": 11,
      "outputs": [
        {
          "output_type": "execute_result",
          "data": {
            "text/plain": [
              "int"
            ]
          },
          "metadata": {},
          "execution_count": 11
        }
      ]
    },
    {
      "cell_type": "code",
      "source": [
        "int_a + c"
      ],
      "metadata": {
        "id": "WI17HC97_v95",
        "colab": {
          "base_uri": "https://localhost:8080/"
        },
        "outputId": "4fd44809-dcb3-4e2c-d3fe-388d3adc49d6"
      },
      "execution_count": 12,
      "outputs": [
        {
          "output_type": "execute_result",
          "data": {
            "text/plain": [
              "14.2"
            ]
          },
          "metadata": {},
          "execution_count": 12
        }
      ]
    },
    {
      "cell_type": "code",
      "source": [
        "a"
      ],
      "metadata": {
        "id": "5O0p_6tU_8H6",
        "colab": {
          "base_uri": "https://localhost:8080/"
        },
        "outputId": "347172b4-e530-41c3-af9b-93fe39ffa010"
      },
      "execution_count": 13,
      "outputs": [
        {
          "output_type": "execute_result",
          "data": {
            "text/plain": [
              "1"
            ]
          },
          "metadata": {},
          "execution_count": 13
        }
      ]
    },
    {
      "cell_type": "code",
      "source": [
        "a = 2.0"
      ],
      "metadata": {
        "id": "rO1MRVga__8Q"
      },
      "execution_count": 14,
      "outputs": []
    },
    {
      "cell_type": "code",
      "source": [
        "a"
      ],
      "metadata": {
        "id": "wul-26wTABeV",
        "colab": {
          "base_uri": "https://localhost:8080/"
        },
        "outputId": "bc72c0e8-61bd-43f3-d817-0055e69b3d83"
      },
      "execution_count": 15,
      "outputs": [
        {
          "output_type": "execute_result",
          "data": {
            "text/plain": [
              "2.0"
            ]
          },
          "metadata": {},
          "execution_count": 15
        }
      ]
    },
    {
      "cell_type": "markdown",
      "source": [
        "### String"
      ],
      "metadata": {
        "id": "6z9usSbMAMAq"
      }
    },
    {
      "cell_type": "code",
      "source": [
        "str_1 = 'This is my first string object'"
      ],
      "metadata": {
        "id": "2xAKecM2ALhw"
      },
      "execution_count": 16,
      "outputs": []
    },
    {
      "cell_type": "code",
      "source": [
        "A = 5"
      ],
      "metadata": {
        "id": "HuKrnYKXAB2X"
      },
      "execution_count": 17,
      "outputs": []
    },
    {
      "cell_type": "code",
      "source": [
        "a"
      ],
      "metadata": {
        "id": "5TUSvbQQAagT",
        "colab": {
          "base_uri": "https://localhost:8080/"
        },
        "outputId": "1254df5c-c46c-47c1-b387-b3465f6999d2"
      },
      "execution_count": 18,
      "outputs": [
        {
          "output_type": "execute_result",
          "data": {
            "text/plain": [
              "2.0"
            ]
          },
          "metadata": {},
          "execution_count": 18
        }
      ]
    },
    {
      "cell_type": "code",
      "source": [
        "str_1"
      ],
      "metadata": {
        "id": "IgYqr4EoAa9X",
        "colab": {
          "base_uri": "https://localhost:8080/",
          "height": 35
        },
        "outputId": "b9ec2878-a9e4-429d-e29e-0afdfadf4610"
      },
      "execution_count": 19,
      "outputs": [
        {
          "output_type": "execute_result",
          "data": {
            "text/plain": [
              "'This is my first string object'"
            ],
            "application/vnd.google.colaboratory.intrinsic+json": {
              "type": "string"
            }
          },
          "metadata": {},
          "execution_count": 19
        }
      ]
    },
    {
      "cell_type": "code",
      "source": [
        "str_1 + \". Hello.\""
      ],
      "metadata": {
        "id": "A4T4Fmh8Ak6k",
        "colab": {
          "base_uri": "https://localhost:8080/",
          "height": 35
        },
        "outputId": "85b0dc36-f914-4fcd-fce7-e6f209a6e4fc"
      },
      "execution_count": 20,
      "outputs": [
        {
          "output_type": "execute_result",
          "data": {
            "text/plain": [
              "'This is my first string object. Hello.'"
            ],
            "application/vnd.google.colaboratory.intrinsic+json": {
              "type": "string"
            }
          },
          "metadata": {},
          "execution_count": 20
        }
      ]
    },
    {
      "cell_type": "code",
      "source": [
        "type(a)"
      ],
      "metadata": {
        "id": "-WogX_eCAo3G",
        "colab": {
          "base_uri": "https://localhost:8080/"
        },
        "outputId": "e0054348-297e-4ad5-a3b7-4c3c1bfcc308"
      },
      "execution_count": 21,
      "outputs": [
        {
          "output_type": "execute_result",
          "data": {
            "text/plain": [
              "float"
            ]
          },
          "metadata": {},
          "execution_count": 21
        }
      ]
    },
    {
      "cell_type": "code",
      "source": [
        "str_1 + str(a)"
      ],
      "metadata": {
        "id": "7zEO2O_6AtSq",
        "colab": {
          "base_uri": "https://localhost:8080/",
          "height": 35
        },
        "outputId": "59ec49d6-7fd5-49ff-b698-dccaa4821701"
      },
      "execution_count": 22,
      "outputs": [
        {
          "output_type": "execute_result",
          "data": {
            "text/plain": [
              "'This is my first string object2.0'"
            ],
            "application/vnd.google.colaboratory.intrinsic+json": {
              "type": "string"
            }
          },
          "metadata": {},
          "execution_count": 22
        }
      ]
    },
    {
      "cell_type": "code",
      "source": [
        "list_1 = [1, 3, 4, 10, 20, 5, 6]"
      ],
      "metadata": {
        "id": "KgTOWPq8BI65"
      },
      "execution_count": 23,
      "outputs": []
    },
    {
      "cell_type": "code",
      "source": [
        "list_2 = [1, 2, 3, 4, 1, 'a house', None]"
      ],
      "metadata": {
        "id": "pL73NfoWB8nD"
      },
      "execution_count": 24,
      "outputs": []
    },
    {
      "cell_type": "code",
      "source": [
        "list_1[0]"
      ],
      "metadata": {
        "id": "gmtzCTeACEcA",
        "colab": {
          "base_uri": "https://localhost:8080/"
        },
        "outputId": "619c7780-77f1-41a1-eeed-62e0c02010fd"
      },
      "execution_count": 25,
      "outputs": [
        {
          "output_type": "execute_result",
          "data": {
            "text/plain": [
              "1"
            ]
          },
          "metadata": {},
          "execution_count": 25
        }
      ]
    },
    {
      "cell_type": "code",
      "source": [
        "list_1[0:3]"
      ],
      "metadata": {
        "id": "IgVZ8js2CXRh",
        "colab": {
          "base_uri": "https://localhost:8080/"
        },
        "outputId": "4c8b31c8-6c14-40aa-95b7-780a61776e27"
      },
      "execution_count": 26,
      "outputs": [
        {
          "output_type": "execute_result",
          "data": {
            "text/plain": [
              "[1, 3, 4]"
            ]
          },
          "metadata": {},
          "execution_count": 26
        }
      ]
    },
    {
      "cell_type": "code",
      "source": [
        "list_1[:3]"
      ],
      "metadata": {
        "id": "uGR4mn5ICcse",
        "colab": {
          "base_uri": "https://localhost:8080/"
        },
        "outputId": "a9edb302-8933-41f4-c80a-819a0c2000bd"
      },
      "execution_count": 27,
      "outputs": [
        {
          "output_type": "execute_result",
          "data": {
            "text/plain": [
              "[1, 3, 4]"
            ]
          },
          "metadata": {},
          "execution_count": 27
        }
      ]
    },
    {
      "cell_type": "code",
      "source": [
        "list_1[2:6]"
      ],
      "metadata": {
        "id": "UKceTOUsC6Yp",
        "colab": {
          "base_uri": "https://localhost:8080/"
        },
        "outputId": "547194de-0f93-4b19-839b-a46d6d2c0da4"
      },
      "execution_count": 28,
      "outputs": [
        {
          "output_type": "execute_result",
          "data": {
            "text/plain": [
              "[4, 10, 20, 5]"
            ]
          },
          "metadata": {},
          "execution_count": 28
        }
      ]
    },
    {
      "cell_type": "code",
      "source": [
        "list_1[[1,3,4]]  #this does not work"
      ],
      "metadata": {
        "id": "aaFh5e7FDICZ",
        "colab": {
          "base_uri": "https://localhost:8080/",
          "height": 166
        },
        "outputId": "bd498b16-bd48-4dbf-b3e8-4bc24039f944"
      },
      "execution_count": 29,
      "outputs": [
        {
          "output_type": "error",
          "ename": "TypeError",
          "evalue": "ignored",
          "traceback": [
            "\u001b[0;31m---------------------------------------------------------------------------\u001b[0m",
            "\u001b[0;31mTypeError\u001b[0m                                 Traceback (most recent call last)",
            "\u001b[0;32m<ipython-input-29-52823d9d08c8>\u001b[0m in \u001b[0;36m<module>\u001b[0;34m()\u001b[0m\n\u001b[0;32m----> 1\u001b[0;31m \u001b[0mlist_1\u001b[0m\u001b[0;34m[\u001b[0m\u001b[0;34m[\u001b[0m\u001b[0;36m1\u001b[0m\u001b[0;34m,\u001b[0m\u001b[0;36m3\u001b[0m\u001b[0;34m,\u001b[0m\u001b[0;36m4\u001b[0m\u001b[0;34m]\u001b[0m\u001b[0;34m]\u001b[0m  \u001b[0;31m#this does not work\u001b[0m\u001b[0;34m\u001b[0m\u001b[0;34m\u001b[0m\u001b[0m\n\u001b[0m",
            "\u001b[0;31mTypeError\u001b[0m: list indices must be integers or slices, not list"
          ]
        }
      ]
    },
    {
      "cell_type": "code",
      "source": [
        "list_1[3:]"
      ],
      "metadata": {
        "id": "O2Ti0loQDXRL",
        "colab": {
          "base_uri": "https://localhost:8080/"
        },
        "outputId": "ddd9998b-0290-43e5-c64f-302cfb9ab8bc"
      },
      "execution_count": 30,
      "outputs": [
        {
          "output_type": "execute_result",
          "data": {
            "text/plain": [
              "[10, 20, 5, 6]"
            ]
          },
          "metadata": {},
          "execution_count": 30
        }
      ]
    },
    {
      "cell_type": "code",
      "source": [
        "list_1"
      ],
      "metadata": {
        "id": "kGDT4TLKDkhz",
        "colab": {
          "base_uri": "https://localhost:8080/"
        },
        "outputId": "2d16ea1f-8358-40b6-be6c-cb04703e2ce5"
      },
      "execution_count": 31,
      "outputs": [
        {
          "output_type": "execute_result",
          "data": {
            "text/plain": [
              "[1, 3, 4, 10, 20, 5, 6]"
            ]
          },
          "metadata": {},
          "execution_count": 31
        }
      ]
    },
    {
      "cell_type": "code",
      "source": [
        "list_1[2] = 2000"
      ],
      "metadata": {
        "id": "pwpKjEVPEcpZ"
      },
      "execution_count": 32,
      "outputs": []
    },
    {
      "cell_type": "code",
      "source": [
        "list_1"
      ],
      "metadata": {
        "id": "kd_VgQ_3EggZ",
        "colab": {
          "base_uri": "https://localhost:8080/"
        },
        "outputId": "aaca76c9-ef5d-43d4-9e21-1437faf60087"
      },
      "execution_count": 33,
      "outputs": [
        {
          "output_type": "execute_result",
          "data": {
            "text/plain": [
              "[1, 3, 2000, 10, 20, 5, 6]"
            ]
          },
          "metadata": {},
          "execution_count": 33
        }
      ]
    },
    {
      "cell_type": "markdown",
      "source": [
        "## Dictionaries"
      ],
      "metadata": {
        "id": "AParHBS9GENM"
      }
    },
    {
      "cell_type": "code",
      "source": [
        "dic_1 = {'one': 3, \"two\": 10, \"three\": 'hello'}"
      ],
      "metadata": {
        "id": "u1LbeVFTEhTN"
      },
      "execution_count": 34,
      "outputs": []
    },
    {
      "cell_type": "code",
      "source": [
        "dic_1['one']"
      ],
      "metadata": {
        "id": "Z8D6XTcjFXFk",
        "colab": {
          "base_uri": "https://localhost:8080/"
        },
        "outputId": "60034a5b-7dad-45d6-895e-11fc243bfe6f"
      },
      "execution_count": 35,
      "outputs": [
        {
          "output_type": "execute_result",
          "data": {
            "text/plain": [
              "3"
            ]
          },
          "metadata": {},
          "execution_count": 35
        }
      ]
    },
    {
      "cell_type": "code",
      "source": [
        "dic_1['one'] = 200"
      ],
      "metadata": {
        "id": "Y8nmqWImFY7F"
      },
      "execution_count": 36,
      "outputs": []
    },
    {
      "cell_type": "code",
      "source": [
        "dic_1['one']"
      ],
      "metadata": {
        "id": "x8RzfF-WFklZ",
        "colab": {
          "base_uri": "https://localhost:8080/"
        },
        "outputId": "f55a4af1-d022-4522-e432-9a89e37678a5"
      },
      "execution_count": 37,
      "outputs": [
        {
          "output_type": "execute_result",
          "data": {
            "text/plain": [
              "200"
            ]
          },
          "metadata": {},
          "execution_count": 37
        }
      ]
    },
    {
      "cell_type": "code",
      "source": [
        "dic_1['four'] = 2"
      ],
      "metadata": {
        "id": "L8GEIH0_FqmY"
      },
      "execution_count": 38,
      "outputs": []
    },
    {
      "cell_type": "markdown",
      "source": [
        "### Concatenating lists"
      ],
      "metadata": {
        "id": "ej52Qv0DGPKy"
      }
    },
    {
      "cell_type": "code",
      "source": [
        "list_0 = [1,2,3]\n",
        "list_3 = [4,5,6]"
      ],
      "metadata": {
        "id": "FnmtaoVbFtMp"
      },
      "execution_count": 39,
      "outputs": []
    },
    {
      "cell_type": "code",
      "source": [
        "# this is not correct\n",
        "list_0.append(list_3)\n",
        "list_0 "
      ],
      "metadata": {
        "colab": {
          "base_uri": "https://localhost:8080/"
        },
        "id": "9H7tr8QfG63g",
        "outputId": "d9259202-b957-4a1f-9b97-f6be03787970"
      },
      "execution_count": 40,
      "outputs": [
        {
          "output_type": "execute_result",
          "data": {
            "text/plain": [
              "[1, 2, 3, [4, 5, 6]]"
            ]
          },
          "metadata": {},
          "execution_count": 40
        }
      ]
    },
    {
      "cell_type": "code",
      "source": [
        "list_0 = [1,2,3]\n",
        "list_3 = [4,5,6]"
      ],
      "metadata": {
        "id": "iEuR-295G-7v"
      },
      "execution_count": 41,
      "outputs": []
    },
    {
      "cell_type": "code",
      "source": [
        "list_0 + list_3"
      ],
      "metadata": {
        "colab": {
          "base_uri": "https://localhost:8080/"
        },
        "id": "D0a23vM6G__O",
        "outputId": "c6c4391b-4fc7-475a-9f60-44ca5928ad19"
      },
      "execution_count": 42,
      "outputs": [
        {
          "output_type": "execute_result",
          "data": {
            "text/plain": [
              "[1, 2, 3, 4, 5, 6]"
            ]
          },
          "metadata": {},
          "execution_count": 42
        }
      ]
    },
    {
      "cell_type": "markdown",
      "source": [
        "### Copying lists"
      ],
      "metadata": {
        "id": "80EKzH4xHDkf"
      }
    },
    {
      "cell_type": "code",
      "source": [
        "list_0"
      ],
      "metadata": {
        "colab": {
          "base_uri": "https://localhost:8080/"
        },
        "id": "MIGUk6pPHFEF",
        "outputId": "4b7eae7d-ace8-40d0-bdc4-2f9714eac306"
      },
      "execution_count": 44,
      "outputs": [
        {
          "output_type": "execute_result",
          "data": {
            "text/plain": [
              "[1, 2, 3]"
            ]
          },
          "metadata": {},
          "execution_count": 44
        }
      ]
    },
    {
      "cell_type": "code",
      "source": [
        "list_01 = list_0"
      ],
      "metadata": {
        "id": "HVVEXMEII8fZ"
      },
      "execution_count": 45,
      "outputs": []
    },
    {
      "cell_type": "code",
      "source": [
        "list_01"
      ],
      "metadata": {
        "colab": {
          "base_uri": "https://localhost:8080/"
        },
        "id": "tEHUN9rtKije",
        "outputId": "021a032b-bfa5-4b93-fcae-556bed78aa0a"
      },
      "execution_count": 46,
      "outputs": [
        {
          "output_type": "execute_result",
          "data": {
            "text/plain": [
              "[1, 2, 3]"
            ]
          },
          "metadata": {},
          "execution_count": 46
        }
      ]
    },
    {
      "cell_type": "code",
      "source": [
        "list_0[2] = 10"
      ],
      "metadata": {
        "id": "ZsrTZ_-4KmOS"
      },
      "execution_count": 47,
      "outputs": []
    },
    {
      "cell_type": "code",
      "source": [
        "list_0"
      ],
      "metadata": {
        "colab": {
          "base_uri": "https://localhost:8080/"
        },
        "id": "7uKRXOrrKpMu",
        "outputId": "b33063cc-caa6-47c7-b83c-354b34063514"
      },
      "execution_count": 48,
      "outputs": [
        {
          "output_type": "execute_result",
          "data": {
            "text/plain": [
              "[1, 2, 10]"
            ]
          },
          "metadata": {},
          "execution_count": 48
        }
      ]
    },
    {
      "cell_type": "code",
      "source": [
        "list_01"
      ],
      "metadata": {
        "colab": {
          "base_uri": "https://localhost:8080/"
        },
        "id": "Dcd6mMcmKp6A",
        "outputId": "9df9b390-a4a2-477d-eadc-272aa06eceeb"
      },
      "execution_count": 49,
      "outputs": [
        {
          "output_type": "execute_result",
          "data": {
            "text/plain": [
              "[1, 2, 10]"
            ]
          },
          "metadata": {},
          "execution_count": 49
        }
      ]
    },
    {
      "cell_type": "code",
      "source": [
        "list_02 = list_0.copy()"
      ],
      "metadata": {
        "id": "GR0MpRjOKrKv"
      },
      "execution_count": 50,
      "outputs": []
    },
    {
      "cell_type": "code",
      "source": [
        "list_02"
      ],
      "metadata": {
        "colab": {
          "base_uri": "https://localhost:8080/"
        },
        "id": "hGITT7Z7K4nN",
        "outputId": "c80604ff-fe30-446e-fb2f-080e96849f60"
      },
      "execution_count": 51,
      "outputs": [
        {
          "output_type": "execute_result",
          "data": {
            "text/plain": [
              "[1, 2, 10]"
            ]
          },
          "metadata": {},
          "execution_count": 51
        }
      ]
    },
    {
      "cell_type": "code",
      "source": [
        "list_0[1] = 5"
      ],
      "metadata": {
        "id": "GgGZRcT3K6hf"
      },
      "execution_count": 52,
      "outputs": []
    },
    {
      "cell_type": "code",
      "source": [
        "list_02"
      ],
      "metadata": {
        "colab": {
          "base_uri": "https://localhost:8080/"
        },
        "id": "CUDi0FETK-Oz",
        "outputId": "a17e0bab-f9b1-4989-c441-d36ae61b22eb"
      },
      "execution_count": 53,
      "outputs": [
        {
          "output_type": "execute_result",
          "data": {
            "text/plain": [
              "[1, 2, 10]"
            ]
          },
          "metadata": {},
          "execution_count": 53
        }
      ]
    },
    {
      "cell_type": "code",
      "source": [
        "list_d = [1, 2, 3, 4, 5, 10]"
      ],
      "metadata": {
        "id": "jIqRUFlOK_qY"
      },
      "execution_count": 54,
      "outputs": []
    },
    {
      "cell_type": "markdown",
      "source": [
        "## Control sequences\n",
        "\n",
        "### For loop"
      ],
      "metadata": {
        "id": "mYylInw9HJnO"
      }
    },
    {
      "cell_type": "code",
      "source": [
        "for i in list_d:\n",
        "  #print(i)\n",
        "  j = i + 2\n",
        "  print(j)\n",
        "\n",
        "print(a)"
      ],
      "metadata": {
        "colab": {
          "base_uri": "https://localhost:8080/"
        },
        "id": "i1IRGUnWMhZP",
        "outputId": "d502bb6b-d6f2-46a5-98c4-70e7ec48f2f9"
      },
      "execution_count": 55,
      "outputs": [
        {
          "output_type": "stream",
          "name": "stdout",
          "text": [
            "3\n",
            "4\n",
            "5\n",
            "6\n",
            "7\n",
            "12\n",
            "2.0\n"
          ]
        }
      ]
    },
    {
      "cell_type": "markdown",
      "source": [
        "### While loop"
      ],
      "metadata": {
        "id": "ifta-RKiHN93"
      }
    },
    {
      "cell_type": "code",
      "source": [
        "i = 7;\n",
        "while i > 0:\n",
        "  print(i)\n",
        "  i = i - 1 "
      ],
      "metadata": {
        "colab": {
          "base_uri": "https://localhost:8080/"
        },
        "id": "fTTJcT1WOtcv",
        "outputId": "ef7c2077-5ce9-4479-a919-f26ef63d73ac"
      },
      "execution_count": 56,
      "outputs": [
        {
          "output_type": "stream",
          "name": "stdout",
          "text": [
            "7\n",
            "6\n",
            "5\n",
            "4\n",
            "3\n",
            "2\n",
            "1\n"
          ]
        }
      ]
    },
    {
      "cell_type": "markdown",
      "source": [
        "### if-elif-else"
      ],
      "metadata": {
        "id": "LprEuk8xHP8S"
      }
    },
    {
      "cell_type": "code",
      "source": [
        "x = -1\n",
        "if x > 3:\n",
        "  print(\"x is big\")\n",
        "elif x > 1:\n",
        "  print(\"x is not that big\")\n",
        "else: \n",
        "  print(\"x is small\")"
      ],
      "metadata": {
        "colab": {
          "base_uri": "https://localhost:8080/"
        },
        "id": "IW-aqDaLPSds",
        "outputId": "3b42b011-a343-42fe-df6e-98a4cb3ca5d8"
      },
      "execution_count": 57,
      "outputs": [
        {
          "output_type": "stream",
          "name": "stdout",
          "text": [
            "x is small\n"
          ]
        }
      ]
    },
    {
      "cell_type": "code",
      "source": [
        "list_d"
      ],
      "metadata": {
        "colab": {
          "base_uri": "https://localhost:8080/"
        },
        "id": "qIDZcDBtO2x1",
        "outputId": "475500cb-1325-4689-c910-bb65b3c2b848"
      },
      "execution_count": 58,
      "outputs": [
        {
          "output_type": "execute_result",
          "data": {
            "text/plain": [
              "[1, 2, 3, 4, 5, 10]"
            ]
          },
          "metadata": {},
          "execution_count": 58
        }
      ]
    },
    {
      "cell_type": "markdown",
      "source": [
        "### Nested sequences (for + if-else)"
      ],
      "metadata": {
        "id": "qviU6MshHVhm"
      }
    },
    {
      "cell_type": "code",
      "source": [
        "for i in list_d:\n",
        "  if i > 3:\n",
        "    print(i)\n",
        "  else:\n",
        "    print('small')\n",
        "print(\"hello\")"
      ],
      "metadata": {
        "colab": {
          "base_uri": "https://localhost:8080/"
        },
        "id": "1_1iIxQ-QExY",
        "outputId": "4ccc4da8-502e-4cce-fcaa-801d5e65e697"
      },
      "execution_count": 59,
      "outputs": [
        {
          "output_type": "stream",
          "name": "stdout",
          "text": [
            "small\n",
            "small\n",
            "small\n",
            "4\n",
            "5\n",
            "10\n",
            "hello\n"
          ]
        }
      ]
    },
    {
      "cell_type": "markdown",
      "source": [
        "## Functions"
      ],
      "metadata": {
        "id": "VsCTVDm9Hbkm"
      }
    },
    {
      "cell_type": "code",
      "source": [
        "def my_multiplication(x, y):\n",
        "  z = x * y\n",
        "  return(z)"
      ],
      "metadata": {
        "id": "CRB7ZmbwRhTd"
      },
      "execution_count": 60,
      "outputs": []
    },
    {
      "cell_type": "code",
      "source": [
        "my_multiplication(y = 3, x = 2)"
      ],
      "metadata": {
        "colab": {
          "base_uri": "https://localhost:8080/"
        },
        "id": "TmPsfXMKRsqk",
        "outputId": "2ba70d0c-d421-486a-ab3b-d0a8165abe35"
      },
      "execution_count": 61,
      "outputs": [
        {
          "output_type": "execute_result",
          "data": {
            "text/plain": [
              "6"
            ]
          },
          "metadata": {},
          "execution_count": 61
        }
      ]
    },
    {
      "cell_type": "code",
      "source": [
        "def my_multiplication2(x, y =10 ):\n",
        "  z = x * y\n",
        "  return(z)"
      ],
      "metadata": {
        "id": "XRw1J5etRvd2"
      },
      "execution_count": 62,
      "outputs": []
    },
    {
      "cell_type": "code",
      "source": [
        "my_multiplication2(20)"
      ],
      "metadata": {
        "colab": {
          "base_uri": "https://localhost:8080/"
        },
        "id": "GjNeYkb4SN_2",
        "outputId": "aff0d294-29cb-4cce-d94f-7c1d853aae6f"
      },
      "execution_count": 63,
      "outputs": [
        {
          "output_type": "execute_result",
          "data": {
            "text/plain": [
              "200"
            ]
          },
          "metadata": {},
          "execution_count": 63
        }
      ]
    },
    {
      "cell_type": "code",
      "source": [
        "list_y = [1, 2, 3, 5]"
      ],
      "metadata": {
        "id": "PzgkbVgqUHFR"
      },
      "execution_count": 64,
      "outputs": []
    },
    {
      "cell_type": "code",
      "source": [
        "list_y + 2"
      ],
      "metadata": {
        "colab": {
          "base_uri": "https://localhost:8080/",
          "height": 166
        },
        "id": "1jdOTZgyUOga",
        "outputId": "bd81430d-79f6-444a-e187-57cdf7a78f55"
      },
      "execution_count": 65,
      "outputs": [
        {
          "output_type": "error",
          "ename": "TypeError",
          "evalue": "ignored",
          "traceback": [
            "\u001b[0;31m---------------------------------------------------------------------------\u001b[0m",
            "\u001b[0;31mTypeError\u001b[0m                                 Traceback (most recent call last)",
            "\u001b[0;32m<ipython-input-65-42f207d44e35>\u001b[0m in \u001b[0;36m<module>\u001b[0;34m()\u001b[0m\n\u001b[0;32m----> 1\u001b[0;31m \u001b[0mlist_y\u001b[0m \u001b[0;34m+\u001b[0m \u001b[0;36m2\u001b[0m\u001b[0;34m\u001b[0m\u001b[0;34m\u001b[0m\u001b[0m\n\u001b[0m",
            "\u001b[0;31mTypeError\u001b[0m: can only concatenate list (not \"int\") to list"
          ]
        }
      ]
    },
    {
      "cell_type": "code",
      "source": [
        "list_y2 = [ i + 2 for i in list_y]"
      ],
      "metadata": {
        "id": "3FyhMVigUR1W"
      },
      "execution_count": 66,
      "outputs": []
    },
    {
      "cell_type": "code",
      "source": [
        "list_y2"
      ],
      "metadata": {
        "colab": {
          "base_uri": "https://localhost:8080/"
        },
        "id": "qRMz5eA-Ur0z",
        "outputId": "e0317e5c-ebc7-47e2-b992-49645d67ebbe"
      },
      "execution_count": 67,
      "outputs": [
        {
          "output_type": "execute_result",
          "data": {
            "text/plain": [
              "[3, 4, 5, 7]"
            ]
          },
          "metadata": {},
          "execution_count": 67
        }
      ]
    },
    {
      "cell_type": "code",
      "source": [
        "list_y3 = [ i + 2 for i in list_y if i >= 3]\n",
        "list_y3"
      ],
      "metadata": {
        "colab": {
          "base_uri": "https://localhost:8080/"
        },
        "id": "fJJmuXUrUtMg",
        "outputId": "fc41584c-83be-4695-88cf-a025128a06cb"
      },
      "execution_count": 68,
      "outputs": [
        {
          "output_type": "execute_result",
          "data": {
            "text/plain": [
              "[5, 7]"
            ]
          },
          "metadata": {},
          "execution_count": 68
        }
      ]
    },
    {
      "cell_type": "code",
      "source": [
        "list_2"
      ],
      "metadata": {
        "colab": {
          "base_uri": "https://localhost:8080/"
        },
        "id": "qCHXTGpCVdOs",
        "outputId": "1b707a31-f2db-4be5-ee07-78fe35b4b031"
      },
      "execution_count": 69,
      "outputs": [
        {
          "output_type": "execute_result",
          "data": {
            "text/plain": [
              "[1, 2, 3, 4, 1, 'a house', None]"
            ]
          },
          "metadata": {},
          "execution_count": 69
        }
      ]
    },
    {
      "cell_type": "code",
      "source": [
        "[list_2[i] for i in [0, 2, 4, 5]]"
      ],
      "metadata": {
        "colab": {
          "base_uri": "https://localhost:8080/"
        },
        "id": "FZ4PJMKXVodQ",
        "outputId": "bbf6038b-1d8f-4e7e-cd92-9b032d425d73"
      },
      "execution_count": 70,
      "outputs": [
        {
          "output_type": "execute_result",
          "data": {
            "text/plain": [
              "[1, 3, 1, 'a house']"
            ]
          },
          "metadata": {},
          "execution_count": 70
        }
      ]
    }
  ]
}